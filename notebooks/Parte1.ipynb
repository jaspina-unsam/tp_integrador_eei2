{
 "cells": [
  {
   "cell_type": "markdown",
   "id": "d68aeae6",
   "metadata": {},
   "source": [
    "## Estadística e Inferencia II - 2do cuatrimestre 2025\n",
    "### Escuela de Ciencia y Tecnología - Universidad Nacional de San Martín\n",
    "#### Javier Spina - javierspina@gmail.com | jaspina@estudiantes.unsam.edu.ar\n",
    "\n",
    "---\n",
    "\n",
    "## Trabajo Práctico Integrador - Parte 1\n",
    "# Análisis Bayesiano del Dataset Iris"
   ]
  },
  {
   "cell_type": "markdown",
   "id": "042cdabf",
   "metadata": {},
   "source": [
    "Este notebook cubre las consignas especificadas en `consignas/TP_integrador_EeI_II__parte_1.pdf`"
   ]
  },
  {
   "cell_type": "markdown",
   "id": "17b68ec0",
   "metadata": {},
   "source": [
    "---\n",
    "\n",
    "### Parte 1 - Análisis exploratorio del dataset IRIS"
   ]
  },
  {
   "cell_type": "code",
   "execution_count": 1,
   "id": "14fa6bbe",
   "metadata": {},
   "outputs": [],
   "source": [
    "import os\n",
    "import pandas as pd\n",
    "import matplotlib.pyplot as plt\n",
    "import seaborn as sns\n",
    "\n",
    "from sklearn.datasets import load_iris\n",
    "\n",
    "sns.set_theme('notebook')"
   ]
  },
  {
   "cell_type": "code",
   "execution_count": 2,
   "id": "e9199173",
   "metadata": {},
   "outputs": [
    {
     "name": "stdout",
     "output_type": "stream",
     "text": [
      "<class 'pandas.core.frame.DataFrame'>\n",
      "RangeIndex: 150 entries, 0 to 149\n",
      "Data columns (total 6 columns):\n",
      " #   Column             Non-Null Count  Dtype  \n",
      "---  ------             --------------  -----  \n",
      " 0   sepal length (cm)  150 non-null    float64\n",
      " 1   sepal width (cm)   150 non-null    float64\n",
      " 2   petal length (cm)  150 non-null    float64\n",
      " 3   petal width (cm)   150 non-null    float64\n",
      " 4   target             150 non-null    int64  \n",
      " 5   species            150 non-null    object \n",
      "dtypes: float64(4), int64(1), object(1)\n",
      "memory usage: 7.2+ KB\n"
     ]
    }
   ],
   "source": [
    "iris = load_iris(as_frame=True).frame\n",
    "iris['species'] = iris['target'].map({\n",
    "    0: 'setosa',\n",
    "    1: 'versicolor',\n",
    "    2: 'virginica'\n",
    "})\n",
    "iris.info()"
   ]
  },
  {
   "cell_type": "code",
   "execution_count": 3,
   "id": "08f1b513",
   "metadata": {},
   "outputs": [
    {
     "data": {
      "text/html": [
       "<div>\n",
       "<style scoped>\n",
       "    .dataframe tbody tr th:only-of-type {\n",
       "        vertical-align: middle;\n",
       "    }\n",
       "\n",
       "    .dataframe tbody tr th {\n",
       "        vertical-align: top;\n",
       "    }\n",
       "\n",
       "    .dataframe thead th {\n",
       "        text-align: right;\n",
       "    }\n",
       "</style>\n",
       "<table border=\"1\" class=\"dataframe\">\n",
       "  <thead>\n",
       "    <tr style=\"text-align: right;\">\n",
       "      <th></th>\n",
       "      <th>sepal length (cm)</th>\n",
       "      <th>sepal width (cm)</th>\n",
       "      <th>petal length (cm)</th>\n",
       "      <th>petal width (cm)</th>\n",
       "      <th>target</th>\n",
       "    </tr>\n",
       "  </thead>\n",
       "  <tbody>\n",
       "    <tr>\n",
       "      <th>count</th>\n",
       "      <td>150.000000</td>\n",
       "      <td>150.000000</td>\n",
       "      <td>150.000000</td>\n",
       "      <td>150.000000</td>\n",
       "      <td>150.000000</td>\n",
       "    </tr>\n",
       "    <tr>\n",
       "      <th>mean</th>\n",
       "      <td>5.843333</td>\n",
       "      <td>3.057333</td>\n",
       "      <td>3.758000</td>\n",
       "      <td>1.199333</td>\n",
       "      <td>1.000000</td>\n",
       "    </tr>\n",
       "    <tr>\n",
       "      <th>std</th>\n",
       "      <td>0.828066</td>\n",
       "      <td>0.435866</td>\n",
       "      <td>1.765298</td>\n",
       "      <td>0.762238</td>\n",
       "      <td>0.819232</td>\n",
       "    </tr>\n",
       "    <tr>\n",
       "      <th>min</th>\n",
       "      <td>4.300000</td>\n",
       "      <td>2.000000</td>\n",
       "      <td>1.000000</td>\n",
       "      <td>0.100000</td>\n",
       "      <td>0.000000</td>\n",
       "    </tr>\n",
       "    <tr>\n",
       "      <th>25%</th>\n",
       "      <td>5.100000</td>\n",
       "      <td>2.800000</td>\n",
       "      <td>1.600000</td>\n",
       "      <td>0.300000</td>\n",
       "      <td>0.000000</td>\n",
       "    </tr>\n",
       "    <tr>\n",
       "      <th>50%</th>\n",
       "      <td>5.800000</td>\n",
       "      <td>3.000000</td>\n",
       "      <td>4.350000</td>\n",
       "      <td>1.300000</td>\n",
       "      <td>1.000000</td>\n",
       "    </tr>\n",
       "    <tr>\n",
       "      <th>75%</th>\n",
       "      <td>6.400000</td>\n",
       "      <td>3.300000</td>\n",
       "      <td>5.100000</td>\n",
       "      <td>1.800000</td>\n",
       "      <td>2.000000</td>\n",
       "    </tr>\n",
       "    <tr>\n",
       "      <th>max</th>\n",
       "      <td>7.900000</td>\n",
       "      <td>4.400000</td>\n",
       "      <td>6.900000</td>\n",
       "      <td>2.500000</td>\n",
       "      <td>2.000000</td>\n",
       "    </tr>\n",
       "  </tbody>\n",
       "</table>\n",
       "</div>"
      ],
      "text/plain": [
       "       sepal length (cm)  sepal width (cm)  petal length (cm)  \\\n",
       "count         150.000000        150.000000         150.000000   \n",
       "mean            5.843333          3.057333           3.758000   \n",
       "std             0.828066          0.435866           1.765298   \n",
       "min             4.300000          2.000000           1.000000   \n",
       "25%             5.100000          2.800000           1.600000   \n",
       "50%             5.800000          3.000000           4.350000   \n",
       "75%             6.400000          3.300000           5.100000   \n",
       "max             7.900000          4.400000           6.900000   \n",
       "\n",
       "       petal width (cm)      target  \n",
       "count        150.000000  150.000000  \n",
       "mean           1.199333    1.000000  \n",
       "std            0.762238    0.819232  \n",
       "min            0.100000    0.000000  \n",
       "25%            0.300000    0.000000  \n",
       "50%            1.300000    1.000000  \n",
       "75%            1.800000    2.000000  \n",
       "max            2.500000    2.000000  "
      ]
     },
     "execution_count": 3,
     "metadata": {},
     "output_type": "execute_result"
    }
   ],
   "source": [
    "iris.describe()"
   ]
  },
  {
   "cell_type": "code",
   "execution_count": 4,
   "id": "8d9b8b2a",
   "metadata": {},
   "outputs": [
    {
     "data": {
      "text/plain": [
       "species\n",
       "setosa        50\n",
       "versicolor    50\n",
       "virginica     50\n",
       "Name: count, dtype: int64"
      ]
     },
     "execution_count": 4,
     "metadata": {},
     "output_type": "execute_result"
    }
   ],
   "source": [
    "iris.species.value_counts()"
   ]
  },
  {
   "cell_type": "markdown",
   "id": "98ea0597",
   "metadata": {},
   "source": [
    "El dataset `iris` tiene 150 observaciones, 4 features y un target. Las 4 features son numéricas, son las medidas del sépalo y del pétalo, en ancho y longitud de ambas. El target es el nombre de la variedad, osea es categórica. En la siguiente tabla un breve resumen\n",
    "\n",
    "<style>\n",
    "td, th {\n",
    "   border: none!important;\n",
    "}\n",
    "</style>\n",
    "\n",
    "Nombre | Es target? | Tipo | Rango \n",
    "-- | -- | -- | -- \n",
    "`sepal length (cm)` | no | `float` | $\\in [4.3, 7.9]$\n",
    "`sepal width (cm)` | no | `float` | $\\in [2.0, 4.4]$\n",
    "`petal length (cm)` | no | `float` | $\\in [1.0, 6.9]$\n",
    "`petal width (cm)` | no | `float` | $\\in [0.1, 2.5]$\n",
    "`species` | si | `object` | $\\in [\\text{setosa}, \\text{versicolor}, \\text{virginica}]$\n",
    "\n",
    "**Variables numéricas**\n",
    "\n",
    "Feature | Rango | Media | Mediana | Desvío\n",
    "-- | -- | -- | -- | --\n",
    "`sepal length (cm)` | $\\in [4.3, 7.9]$ | $5.84$ | $5.80$ | $0.83$\n",
    "`sepal width (cm)` | $\\in [2.0, 4.4]$ | $3.06$ | $3.00$ | $0.44$\n",
    "`petal length (cm)` | $\\in [1.0, 6.9]$ | $3.76$ | $4.35$ | $1.76$\n",
    "`petal width (cm)` | $\\in [0.1, 2.5]$ | $1.20$ | $1.30$ | $0.76$\n",
    "\n",
    "**Variable categórica (target)**\n",
    "Variable | Valor | Frecuencia\n",
    "-- | -- | -- \n",
    "`species` | $\\text{setosa}$ | $50$ \n",
    "`species` | $\\text{versicolor}$ | $50$ \n",
    "`species` | $\\text{virginica}$ | $50$ "
   ]
  }
 ],
 "metadata": {
  "kernelspec": {
   "display_name": ".venv",
   "language": "python",
   "name": "python3"
  },
  "language_info": {
   "codemirror_mode": {
    "name": "ipython",
    "version": 3
   },
   "file_extension": ".py",
   "mimetype": "text/x-python",
   "name": "python",
   "nbconvert_exporter": "python",
   "pygments_lexer": "ipython3",
   "version": "3.13.3"
  }
 },
 "nbformat": 4,
 "nbformat_minor": 5
}
